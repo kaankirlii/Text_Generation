{
  "nbformat": 4,
  "nbformat_minor": 0,
  "metadata": {
    "colab": {
      "provenance": []
    },
    "kernelspec": {
      "name": "python3",
      "display_name": "Python 3"
    },
    "language_info": {
      "name": "python"
    }
  },
  "cells": [
    {
      "cell_type": "code",
      "source": [
        "# Install the Transformers library\n",
        "!pip install transformers"
      ],
      "metadata": {
        "colab": {
          "base_uri": "https://localhost:8080/"
        },
        "id": "4PEkCFmWiWZh",
        "outputId": "3eb384b3-4b85-4aa7-d048-cad0227c5662"
      },
      "execution_count": null,
      "outputs": [
        {
          "output_type": "stream",
          "name": "stdout",
          "text": [
            "Requirement already satisfied: transformers in /usr/local/lib/python3.10/dist-packages (4.40.2)\n",
            "Requirement already satisfied: filelock in /usr/local/lib/python3.10/dist-packages (from transformers) (3.14.0)\n",
            "Requirement already satisfied: huggingface-hub<1.0,>=0.19.3 in /usr/local/lib/python3.10/dist-packages (from transformers) (0.20.3)\n",
            "Requirement already satisfied: numpy>=1.17 in /usr/local/lib/python3.10/dist-packages (from transformers) (1.25.2)\n",
            "Requirement already satisfied: packaging>=20.0 in /usr/local/lib/python3.10/dist-packages (from transformers) (24.0)\n",
            "Requirement already satisfied: pyyaml>=5.1 in /usr/local/lib/python3.10/dist-packages (from transformers) (6.0.1)\n",
            "Requirement already satisfied: regex!=2019.12.17 in /usr/local/lib/python3.10/dist-packages (from transformers) (2023.12.25)\n",
            "Requirement already satisfied: requests in /usr/local/lib/python3.10/dist-packages (from transformers) (2.31.0)\n",
            "Requirement already satisfied: tokenizers<0.20,>=0.19 in /usr/local/lib/python3.10/dist-packages (from transformers) (0.19.1)\n",
            "Requirement already satisfied: safetensors>=0.4.1 in /usr/local/lib/python3.10/dist-packages (from transformers) (0.4.3)\n",
            "Requirement already satisfied: tqdm>=4.27 in /usr/local/lib/python3.10/dist-packages (from transformers) (4.66.4)\n",
            "Requirement already satisfied: fsspec>=2023.5.0 in /usr/local/lib/python3.10/dist-packages (from huggingface-hub<1.0,>=0.19.3->transformers) (2023.6.0)\n",
            "Requirement already satisfied: typing-extensions>=3.7.4.3 in /usr/local/lib/python3.10/dist-packages (from huggingface-hub<1.0,>=0.19.3->transformers) (4.11.0)\n",
            "Requirement already satisfied: charset-normalizer<4,>=2 in /usr/local/lib/python3.10/dist-packages (from requests->transformers) (3.3.2)\n",
            "Requirement already satisfied: idna<4,>=2.5 in /usr/local/lib/python3.10/dist-packages (from requests->transformers) (3.7)\n",
            "Requirement already satisfied: urllib3<3,>=1.21.1 in /usr/local/lib/python3.10/dist-packages (from requests->transformers) (2.0.7)\n",
            "Requirement already satisfied: certifi>=2017.4.17 in /usr/local/lib/python3.10/dist-packages (from requests->transformers) (2024.2.2)\n"
          ]
        }
      ]
    },
    {
      "cell_type": "code",
      "execution_count": null,
      "metadata": {
        "id": "H0ikbts2hB-k"
      },
      "outputs": [],
      "source": [
        "# Import necessary libraries\n",
        "import torch\n",
        "from transformers import GPT2LMHeadModel, GPT2Tokenizer"
      ]
    },
    {
      "cell_type": "code",
      "source": [
        "# Define a function to generate text based on an input prompt,\n",
        "# input temperature, and input model name, and finally demonstrates\n",
        "# how to use the function with a simple example prompt.\n",
        "def generate_text(prompt, max_length=50, temperature=0.7, model_name='gpt2'):\n",
        "    try:\n",
        "        # Load pre-trained GPT-2 model and tokenizer\n",
        "        tokenizer = GPT2Tokenizer.from_pretrained(model_name)\n",
        "        model = GPT2LMHeadModel.from_pretrained(model_name)\n",
        "\n",
        "        # Tokenize input prompt\n",
        "        input_ids = tokenizer.encode(prompt, return_tensors='pt')\n",
        "\n",
        "        # Generate text\n",
        "        output = model.generate(input_ids, max_length=max_length, num_return_sequences=1, temperature=temperature)\n",
        "\n",
        "        # Decode generated output\n",
        "        generated_text = tokenizer.decode(output[0], skip_special_tokens=True)\n",
        "\n",
        "        return generated_text\n",
        "\n",
        "    except Exception as e:\n",
        "        print(\"Error:\", e)\n",
        "        return None"
      ],
      "metadata": {
        "id": "wjUVocvShU27"
      },
      "execution_count": null,
      "outputs": []
    },
    {
      "cell_type": "code",
      "source": [
        "# Main function with input menu. If all criterias are suitable, the text\n",
        "# will be generated\n",
        "def main():\n",
        "    # Example usage\n",
        "    prompt = input(\"Enter the prompt: \")\n",
        "    max_length = int(input(\"Enter the maximum length of generated text (default is 50): \") or 50)\n",
        "    temperature = float(input(\"Enter the temperature for text generation (default is 0.7): \") or 0.7)\n",
        "    model_name = input(\"Enter the model name (default is 'gpt2'): \") or 'gpt2'\n",
        "\n",
        "    generated_text = generate_text(prompt, max_length=max_length, temperature=temperature, model_name=model_name)\n",
        "\n",
        "    if generated_text:\n",
        "        print(\"\\nGenerated Text:\")\n",
        "        print(generated_text)"
      ],
      "metadata": {
        "id": "1zju2fS8hxl0"
      },
      "execution_count": null,
      "outputs": []
    },
    {
      "cell_type": "code",
      "source": [
        "# Is Python module or main program?\n",
        "if __name__ == \"__main__\":\n",
        "    main()"
      ],
      "metadata": {
        "id": "jPEGWFQ6iE9G",
        "colab": {
          "base_uri": "https://localhost:8080/"
        },
        "outputId": "e30caea6-d5a9-4756-bfe8-b1998e7b80cc"
      },
      "execution_count": 7,
      "outputs": [
        {
          "name": "stdout",
          "output_type": "stream",
          "text": [
            "Enter the prompt: If I were a Grey Wolf\n",
            "Enter the maximum length of generated text (default is 50): 50\n",
            "Enter the temperature for text generation (default is 0.7): 0.7\n",
            "Enter the model name (default is 'gpt2'): gpt2\n"
          ]
        },
        {
          "output_type": "stream",
          "name": "stderr",
          "text": [
            "The attention mask and the pad token id were not set. As a consequence, you may observe unexpected behavior. Please pass your input's `attention_mask` to obtain reliable results.\n",
            "Setting `pad_token_id` to `eos_token_id`:50256 for open-end generation.\n"
          ]
        },
        {
          "output_type": "stream",
          "name": "stdout",
          "text": [
            "\n",
            "Generated Text:\n",
            "If I were a Grey Wolf, I would have been a Grey Wolf. I would have been a Grey Wolf. I would have been a Grey Wolf. I would have been a Grey Wolf. I would have been a Grey Wolf. I would have\n"
          ]
        }
      ]
    }
  ]
}